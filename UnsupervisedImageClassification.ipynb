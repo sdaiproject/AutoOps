{
  "nbformat": 4,
  "nbformat_minor": 0,
  "metadata": {
    "colab": {
      "provenance": [],
      "collapsed_sections": []
    },
    "kernelspec": {
      "name": "python3",
      "display_name": "Python 3"
    },
    "language_info": {
      "name": "python"
    }
  },
  "cells": [
    {
      "cell_type": "markdown",
      "source": [
        "**Task 1: **"
      ],
      "metadata": {
        "id": "fmOBuEW0OASX"
      }
    },
    {
      "cell_type": "code",
      "execution_count": 1,
      "metadata": {
        "id": "dEfnofdTrUMT",
        "colab": {
          "base_uri": "https://localhost:8080/"
        },
        "outputId": "9646a5a7-1459-4794-d173-68c4c0b8d247"
      },
      "outputs": [
        {
          "output_type": "stream",
          "name": "stdout",
          "text": [
            "Downloading data from https://storage.googleapis.com/tensorflow/tf-keras-datasets/mnist.npz\n",
            "11493376/11490434 [==============================] - 0s 0us/step\n",
            "11501568/11490434 [==============================] - 0s 0us/step\n"
          ]
        }
      ],
      "source": [
        "# Importing the dataset from keras\n",
        "from keras.datasets import mnist\n",
        "(x_train, y_train), (x_test, y_test) = mnist.load_data()"
      ]
    },
    {
      "cell_type": "code",
      "source": [
        "# Checking the ‘type’\n",
        "print(type(x_train))\n",
        "print(type(x_test))\n",
        "print(type(y_train))\n",
        "print(type(y_test))"
      ],
      "metadata": {
        "id": "rW2DQ-ELrfAf",
        "colab": {
          "base_uri": "https://localhost:8080/"
        },
        "outputId": "fc9f4672-fe92-4a13-edbf-ea1648cb017a"
      },
      "execution_count": 2,
      "outputs": [
        {
          "output_type": "stream",
          "name": "stdout",
          "text": [
            "<class 'numpy.ndarray'>\n",
            "<class 'numpy.ndarray'>\n",
            "<class 'numpy.ndarray'>\n",
            "<class 'numpy.ndarray'>\n"
          ]
        }
      ]
    },
    {
      "cell_type": "code",
      "source": [
        "# Checking the shape\n",
        "print(x_train.shape)\n",
        "print(x_test.shape)\n",
        "print(y_train.shape)\n",
        "print(y_test.shape)"
      ],
      "metadata": {
        "id": "p0yjZUEIri28",
        "colab": {
          "base_uri": "https://localhost:8080/"
        },
        "outputId": "9dcd1d0d-a948-4c2e-e48d-bbe15328417c"
      },
      "execution_count": 3,
      "outputs": [
        {
          "output_type": "stream",
          "name": "stdout",
          "text": [
            "(60000, 28, 28)\n",
            "(10000, 28, 28)\n",
            "(60000,)\n",
            "(10000,)\n"
          ]
        }
      ]
    },
    {
      "cell_type": "code",
      "source": [
        "import matplotlib.pyplot as plt\n",
        "plt.gray()\n",
        "plt.figure(figsize = (10,9))\n",
        "for i in range(9):\n",
        " plt.subplot(3,3,i+1)\n",
        " plt.imshow(x_train[i])"
      ],
      "metadata": {
        "id": "zDazUhUzrlDf",
        "colab": {
          "base_uri": "https://localhost:8080/",
          "height": 556
        },
        "outputId": "7526701c-3cd6-4537-e8ca-741d34c829c0"
      },
      "execution_count": 4,
      "outputs": [
        {
          "output_type": "display_data",
          "data": {
            "text/plain": [
              "<Figure size 432x288 with 0 Axes>"
            ]
          },
          "metadata": {}
        },
        {
          "output_type": "display_data",
          "data": {
            "text/plain": [
              "<Figure size 720x648 with 9 Axes>"
            ],
            "image/png": "[encoded data removed]"
          },
          "metadata": {
            "needs_background": "light"
          }
        }
      ]
    },
    {
      "cell_type": "code",
      "source": [
        "# Printing examples in 'y_train'\n",
        "for i in range(5):\n",
        "  print(y_train[i])"
      ],
      "metadata": {
        "id": "DF72QXQproan",
        "colab": {
          "base_uri": "https://localhost:8080/"
        },
        "outputId": "5426a014-3b38-45b7-8b81-01235a2ae709"
      },
      "execution_count": 5,
      "outputs": [
        {
          "output_type": "stream",
          "name": "stdout",
          "text": [
            "5\n",
            "0\n",
            "4\n",
            "1\n",
            "9\n"
          ]
        }
      ]
    },
    {
      "cell_type": "code",
      "source": [
        "# Checking the minimum and maximum values of x_train\n",
        "print(x_train.min())\n",
        "print(x_train.max())"
      ],
      "metadata": {
        "id": "Up7dO8PLrqbj",
        "colab": {
          "base_uri": "https://localhost:8080/"
        },
        "outputId": "8e69f5ea-2076-48bc-ef54-612bba766136"
      },
      "execution_count": 6,
      "outputs": [
        {
          "output_type": "stream",
          "name": "stdout",
          "text": [
            "0\n",
            "255\n"
          ]
        }
      ]
    },
    {
      "cell_type": "code",
      "source": [
        "x_train = x_train.astype(\"float32\") \n",
        "x_test = x_test.astype(\"float32\")\n",
        "# Normalization\n",
        "x_train = x_train/255.0\n",
        "x_test = x_test/255.0"
      ],
      "metadata": {
        "id": "OD37UArfrs1Z"
      },
      "execution_count": 7,
      "outputs": []
    },
    {
      "cell_type": "code",
      "source": [
        "# Checking the minimum and maximum values of x_train\n",
        "print(x_train.min())\n",
        "print(x_train.max())"
      ],
      "metadata": {
        "id": "uj1Abijarutl",
        "colab": {
          "base_uri": "https://localhost:8080/"
        },
        "outputId": "8c24ace6-e56a-4582-f0c7-2167591eabbb"
      },
      "execution_count": 8,
      "outputs": [
        {
          "output_type": "stream",
          "name": "stdout",
          "text": [
            "0.0\n",
            "1.0\n"
          ]
        }
      ]
    },
    {
      "cell_type": "code",
      "source": [
        "X_train = x_train.reshape(len(x_train),-1)\n",
        "X_test = x_test.reshape(len(x_test),-1)"
      ],
      "metadata": {
        "id": "j1znZL4b8L9O"
      },
      "execution_count": 9,
      "outputs": []
    },
    {
      "cell_type": "code",
      "source": [
        "print(X_train.shape)\n",
        "print(X_test.shape)"
      ],
      "metadata": {
        "colab": {
          "base_uri": "https://localhost:8080/"
        },
        "id": "0MEGWB5W8Tw3",
        "outputId": "8af69c2a-f188-4594-b276-204a88abddf3"
      },
      "execution_count": 10,
      "outputs": [
        {
          "output_type": "stream",
          "name": "stdout",
          "text": [
            "(60000, 784)\n",
            "(10000, 784)\n"
          ]
        }
      ]
    },
    {
      "cell_type": "code",
      "source": [
        "from sklearn.cluster import MiniBatchKMeans\n",
        "import numpy as np\n",
        "total_clusters = len(np.unique(y_test))\n",
        "# Initialize the K-Means model\n",
        "kmeans = MiniBatchKMeans(n_clusters = total_clusters)\n",
        "# Fitting the model to training set\n",
        "kmeans.fit(X_train)"
      ],
      "metadata": {
        "colab": {
          "base_uri": "https://localhost:8080/"
        },
        "id": "JplrBJkO8Z17",
        "outputId": "4c00e193-553d-4590-8b0e-17694d4a8a92"
      },
      "execution_count": 12,
      "outputs": [
        {
          "output_type": "execute_result",
          "data": {
            "text/plain": [
              "MiniBatchKMeans(n_clusters=10)"
            ]
          },
          "metadata": {},
          "execution_count": 12
        }
      ]
    },
    {
      "cell_type": "code",
      "source": [
        "kmeans.labels_\n"
      ],
      "metadata": {
        "id": "BAcKzK9TrzkJ",
        "colab": {
          "base_uri": "https://localhost:8080/"
        },
        "outputId": "ef29ba82-15af-459b-973c-829dcdc64611"
      },
      "execution_count": 13,
      "outputs": [
        {
          "output_type": "execute_result",
          "data": {
            "text/plain": [
              "array([0, 8, 2, ..., 4, 3, 3], dtype=int32)"
            ]
          },
          "metadata": {},
          "execution_count": 13
        }
      ]
    },
    {
      "cell_type": "code",
      "source": [
        "def retrieve_info(cluster_labels,y_train):\n",
        "  reference_labels = {}\n",
        "  for i in range(len(np.unique(kmeans.labels_))):\n",
        "    index = np.where(cluster_labels == i,1,0)\n",
        "    num = np.bincount(y_train[index==1]).argmax()\n",
        "    reference_labels[i] = num\n",
        "  return reference_labels\n",
        "  "
      ],
      "metadata": {
        "id": "l0KDIo6Br2xQ"
      },
      "execution_count": 14,
      "outputs": []
    },
    {
      "cell_type": "code",
      "source": [
        "reference_labels = retrieve_info(kmeans.labels_,y_train)\n",
        "number_labels = np.random.rand(len(kmeans.labels_))\n",
        "for i in range(len(kmeans.labels_)):\n",
        "  number_labels[i] = reference_labels[kmeans.labels_[i]]"
      ],
      "metadata": {
        "id": "e6owXKfRr8pD"
      },
      "execution_count": 15,
      "outputs": []
    },
    {
      "cell_type": "code",
      "source": [
        "print(number_labels[:20].astype(\"int\"))\n",
        "print(y_train[:20])"
      ],
      "metadata": {
        "id": "i3i4xpuAr-zZ",
        "colab": {
          "base_uri": "https://localhost:8080/"
        },
        "outputId": "e0c75fc1-2307-416f-f1e1-b3128eb175b9"
      },
      "execution_count": 16,
      "outputs": [
        {
          "output_type": "stream",
          "name": "stdout",
          "text": [
            "[3 0 4 1 9 2 1 2 1 7 3 1 3 6 1 7 2 2 6 7]\n",
            "[5 0 4 1 9 2 1 3 1 4 3 5 3 6 1 7 2 8 6 9]\n"
          ]
        }
      ]
    },
    {
      "cell_type": "code",
      "source": [
        "from sklearn.metrics import accuracy_score\n",
        "print(accuracy_score(number_labels,y_train))"
      ],
      "metadata": {
        "id": "doa4aLiTsAvV",
        "colab": {
          "base_uri": "https://localhost:8080/"
        },
        "outputId": "34b70145-ef4f-463b-d5a8-2659d20b1687"
      },
      "execution_count": 17,
      "outputs": [
        {
          "output_type": "stream",
          "name": "stdout",
          "text": [
            "0.5336\n"
          ]
        }
      ]
    },
    {
      "cell_type": "markdown",
      "source": [
        "**Task 2: Optimizing the code to improve the accuracy**"
      ],
      "metadata": {
        "id": "Wtj0eWnmZTur"
      }
    },
    {
      "cell_type": "code",
      "source": [
        "def calculate_metrics(model,output):\n",
        " print(\"Number of clusters is {}\".format(model.n_clusters))\n",
        " print(\"Inertia : {}\".format(model.inertia_))\n",
        " print(\"Homogeneity :       {}\".format(metrics.homogeneity_score(output,model.labels_)))"
      ],
      "metadata": {
        "id": "rPfvHROM9QUN"
      },
      "execution_count": 25,
      "outputs": []
    },
    {
      "cell_type": "code",
      "source": [
        "from sklearn import metrics\n",
        "cluster_number = [10,16,36,64,144,256]\n",
        "for i in cluster_number:\n",
        "  total_clusters = len(np.unique(y_test))\n",
        "kmeans = MiniBatchKMeans(n_clusters = i)\n",
        "kmeans.fit(X_train)\n",
        "calculate_metrics(kmeans,y_train)\n",
        "reference_labels = retrieve_info(kmeans.labels_,y_train)\n",
        "number_labels = np.random.rand(len(kmeans.labels_))\n",
        "for i in range(len(kmeans.labels_)):\n",
        " number_labels[i] = reference_labels[kmeans.labels_[i]]\n",
        "print(\"Accuracy score : {}\".format(accuracy_score(number_labels,y_train)))\n",
        "print(\"\\n\")"
      ],
      "metadata": {
        "colab": {
          "base_uri": "https://localhost:8080/"
        },
        "id": "6xdP34RJ9QQY",
        "outputId": "1a0bea84-76ec-4623-e379-ee578cf7148c"
      },
      "execution_count": 26,
      "outputs": [
        {
          "output_type": "stream",
          "name": "stdout",
          "text": [
            "Number of clusters is 256\n",
            "Inertia : 1500085.5\n",
            "Homogeneity :       0.8457729731007053\n",
            "Accuracy score : 0.9017666666666667\n",
            "\n",
            "\n"
          ]
        }
      ]
    },
    {
      "cell_type": "markdown",
      "source": [
        "Task 3 : "
      ],
      "metadata": {
        "id": "QXI2yoaXAQZC"
      }
    },
    {
      "cell_type": "code",
      "source": [
        "from keras.datasets import fashion_mnist\n",
        "(x_train, y_train), (x_test, y_test) = fashion_mnist.load_data()"
      ],
      "metadata": {
        "id": "161h2C5-9P3-"
      },
      "execution_count": 37,
      "outputs": []
    },
    {
      "cell_type": "code",
      "source": [
        "# Checking the ‘type’\n",
        "print(type(x_train))\n",
        "print(type(x_test))\n",
        "print(type(y_train))\n",
        "print(type(y_test))"
      ],
      "metadata": {
        "colab": {
          "base_uri": "https://localhost:8080/"
        },
        "id": "Pe1Cm5CV9P1z",
        "outputId": "bfc753d8-8fb2-4808-c036-531e18981541"
      },
      "execution_count": 38,
      "outputs": [
        {
          "output_type": "stream",
          "name": "stdout",
          "text": [
            "<class 'numpy.ndarray'>\n",
            "<class 'numpy.ndarray'>\n",
            "<class 'numpy.ndarray'>\n",
            "<class 'numpy.ndarray'>\n"
          ]
        }
      ]
    },
    {
      "cell_type": "code",
      "source": [
        "# Checking the shape\n",
        "print(x_train.shape)\n",
        "print(x_test.shape)\n",
        "print(y_train.shape)\n",
        "print(y_test.shape)"
      ],
      "metadata": {
        "colab": {
          "base_uri": "https://localhost:8080/"
        },
        "id": "enjJrP5r9Pxu",
        "outputId": "d44ed76f-ad52-4a2a-8ad5-7793c8da4628"
      },
      "execution_count": 39,
      "outputs": [
        {
          "output_type": "stream",
          "name": "stdout",
          "text": [
            "(60000, 28, 28)\n",
            "(10000, 28, 28)\n",
            "(60000,)\n",
            "(10000,)\n"
          ]
        }
      ]
    },
    {
      "cell_type": "code",
      "source": [
        "import matplotlib.pyplot as plt\n",
        "plt.gray() # B/W Images\n",
        "plt.figure(figsize = (10,9)) # Adjusting figure size\n",
        "# Displaying a grid of 3x3 images\n",
        "for i in range(9):\n",
        " plt.subplot(3,3,i+1)\n",
        " plt.imshow(x_train[i])"
      ],
      "metadata": {
        "colab": {
          "base_uri": "https://localhost:8080/",
          "height": 556
        },
        "id": "YKjbAmEP9Pvm",
        "outputId": "c4be34c4-37d7-48a8-99a1-6a01d59fb325"
      },
      "execution_count": 40,
      "outputs": [
        {
          "output_type": "display_data",
          "data": {
            "text/plain": [
              "<Figure size 432x288 with 0 Axes>"
            ]
          },
          "metadata": {}
        },
        {
          "output_type": "display_data",
          "data": {
            "text/plain": [
              "<Figure size 720x648 with 9 Axes>"
            ],
            "image/png": "[encoded data removed]"
          },
          "metadata": {
            "needs_background": "light"
          }
        }
      ]
    },
    {
      "cell_type": "code",
      "source": [
        "# Printing examples in 'y_train'\n",
        "for i in range(5):\n",
        "  print(y_train[i])"
      ],
      "metadata": {
        "colab": {
          "base_uri": "https://localhost:8080/"
        },
        "id": "dqWtQ5mE9Pr3",
        "outputId": "41191662-9af3-41f9-8cf5-1c95849fd94e"
      },
      "execution_count": 41,
      "outputs": [
        {
          "output_type": "stream",
          "name": "stdout",
          "text": [
            "9\n",
            "0\n",
            "0\n",
            "3\n",
            "0\n"
          ]
        }
      ]
    },
    {
      "cell_type": "code",
      "source": [
        "# Checking the minimum and maximum values of x_train\n",
        "print(x_train.min())\n",
        "print(x_train.max())"
      ],
      "metadata": {
        "colab": {
          "base_uri": "https://localhost:8080/"
        },
        "id": "9V38StN89Ppe",
        "outputId": "e461a66b-7698-4f42-882e-bd1214e68eef"
      },
      "execution_count": 42,
      "outputs": [
        {
          "output_type": "stream",
          "name": "stdout",
          "text": [
            "0\n",
            "255\n"
          ]
        }
      ]
    },
    {
      "cell_type": "code",
      "source": [
        "# Data Normalization\n",
        "# Conversion to float\n",
        "x_train = x_train.astype(\"float32\")\n",
        "x_test = x_test.astype(\"float32\")\n",
        "# Normalization\n",
        "x_train = x_train/255.0\n",
        "x_test = x_test/255.0"
      ],
      "metadata": {
        "id": "hnNx9jU-9Plr"
      },
      "execution_count": 43,
      "outputs": []
    },
    {
      "cell_type": "code",
      "source": [
        "# Checking the minimum and maximum values of x_train\n",
        "print(x_train.min())\n",
        "print(x_train.max())"
      ],
      "metadata": {
        "colab": {
          "base_uri": "https://localhost:8080/"
        },
        "id": "cMAN29n79PjU",
        "outputId": "6ab1561f-3a29-4a79-a8f0-d44a9e541b4c"
      },
      "execution_count": 44,
      "outputs": [
        {
          "output_type": "stream",
          "name": "stdout",
          "text": [
            "0.0\n",
            "1.0\n"
          ]
        }
      ]
    },
    {
      "cell_type": "code",
      "source": [
        "X_train = x_train.reshape(len(x_train),-1)\n",
        "X_test = x_test.reshape(len(x_test),-1)"
      ],
      "metadata": {
        "id": "Kv9AaVdCCEiJ"
      },
      "execution_count": 46,
      "outputs": []
    },
    {
      "cell_type": "code",
      "source": [
        "from sklearn.cluster import MiniBatchKMeans\n",
        "import numpy as np\n",
        "total_clusters = len(np.unique(y_test))\n",
        "# Initialize the K-Means model\n",
        "kmeans = MiniBatchKMeans(n_clusters = total_clusters)\n",
        "# Fitting the model to training set\n",
        "kmeans.fit(X_train)"
      ],
      "metadata": {
        "colab": {
          "base_uri": "https://localhost:8080/"
        },
        "id": "nhv6yha29Pfb",
        "outputId": "73e7e330-bf7d-4bc3-9316-31b7cf3eec15"
      },
      "execution_count": 47,
      "outputs": [
        {
          "output_type": "execute_result",
          "data": {
            "text/plain": [
              "MiniBatchKMeans(n_clusters=10)"
            ]
          },
          "metadata": {},
          "execution_count": 47
        }
      ]
    },
    {
      "cell_type": "code",
      "source": [
        "kmeans.labels_"
      ],
      "metadata": {
        "id": "XYI2TmKB9PdY",
        "colab": {
          "base_uri": "https://localhost:8080/"
        },
        "outputId": "6dd510e2-a0f0-4bae-dcec-a8b6f22ddeea"
      },
      "execution_count": 48,
      "outputs": [
        {
          "output_type": "execute_result",
          "data": {
            "text/plain": [
              "array([7, 6, 0, ..., 3, 0, 5], dtype=int32)"
            ]
          },
          "metadata": {},
          "execution_count": 48
        }
      ]
    },
    {
      "cell_type": "code",
      "source": [
        "def retrieve_info(cluster_labels,y_train):\n",
        "  reference_labels = {}\n",
        "  for i in range(len(np.unique(kmeans.labels_))):\n",
        "    index = np.where(cluster_labels == i,1,0)\n",
        "    num = np.bincount(y_train[index==1]).argmax()\n",
        "    reference_labels[i] = num\n",
        "  return reference_labels\n",
        "  "
      ],
      "metadata": {
        "id": "EYZaNrSh9PZZ"
      },
      "execution_count": 49,
      "outputs": []
    },
    {
      "cell_type": "code",
      "source": [
        "reference_labels = retrieve_info(kmeans.labels_,y_train)\n",
        "number_labels = np.random.rand(len(kmeans.labels_))\n",
        "for i in range(len(kmeans.labels_)):\n",
        "  number_labels[i] = reference_labels[kmeans.labels_[i]]"
      ],
      "metadata": {
        "id": "VPA2zFSV9PXY"
      },
      "execution_count": 50,
      "outputs": []
    },
    {
      "cell_type": "code",
      "source": [
        "# Comparing Predicted values and Actual values\n",
        "print(number_labels[:20].astype(\"int\"))\n",
        "print(y_train[:20])"
      ],
      "metadata": {
        "id": "m6U3wnZw9PTs",
        "colab": {
          "base_uri": "https://localhost:8080/"
        },
        "outputId": "75de9128-016f-443a-c4dd-504c5828acfe"
      },
      "execution_count": 51,
      "outputs": [
        {
          "output_type": "stream",
          "name": "stdout",
          "text": [
            "[9 0 6 6 3 2 7 2 5 5 0 9 7 7 7 9 1 0 2 6]\n",
            "[9 0 0 3 0 2 7 2 5 5 0 9 5 5 7 9 1 0 6 4]\n"
          ]
        }
      ]
    },
    {
      "cell_type": "code",
      "source": [
        "# Calculating accuracy score\n",
        "from sklearn.metrics import accuracy_score\n",
        "print(accuracy_score(number_labels,y_train))"
      ],
      "metadata": {
        "id": "RKmmlpUk9PRj",
        "colab": {
          "base_uri": "https://localhost:8080/"
        },
        "outputId": "fc1428de-01d3-4622-b033-7cdfbb54d9fb"
      },
      "execution_count": 52,
      "outputs": [
        {
          "output_type": "stream",
          "name": "stdout",
          "text": [
            "0.53225\n"
          ]
        }
      ]
    },
    {
      "cell_type": "code",
      "source": [],
      "metadata": {
        "id": "WknngbW69PNx"
      },
      "execution_count": null,
      "outputs": []
    },
    {
      "cell_type": "code",
      "source": [],
      "metadata": {
        "id": "3CT9nm2B9PLh"
      },
      "execution_count": null,
      "outputs": []
    },
    {
      "cell_type": "code",
      "source": [],
      "metadata": {
        "id": "kBzd3I8f9PHv"
      },
      "execution_count": null,
      "outputs": []
    },
    {
      "cell_type": "code",
      "source": [],
      "metadata": {
        "id": "yEfizKbu9PFq"
      },
      "execution_count": null,
      "outputs": []
    },
    {
      "cell_type": "code",
      "source": [],
      "metadata": {
        "id": "J-0PR_uS9PBs"
      },
      "execution_count": null,
      "outputs": []
    },
    {
      "cell_type": "code",
      "source": [],
      "metadata": {
        "id": "ubHP21BM9O_v"
      },
      "execution_count": null,
      "outputs": []
    },
    {
      "cell_type": "code",
      "source": [],
      "metadata": {
        "id": "gLC2k74b9O7q"
      },
      "execution_count": null,
      "outputs": []
    },
    {
      "cell_type": "code",
      "source": [],
      "metadata": {
        "id": "CRKXjvxQ9O5a"
      },
      "execution_count": null,
      "outputs": []
    },
    {
      "cell_type": "code",
      "source": [],
      "metadata": {
        "id": "3-pvw9zD9O1s"
      },
      "execution_count": null,
      "outputs": []
    },
    {
      "cell_type": "code",
      "source": [],
      "metadata": {
        "id": "yPZAaGSO9Ozc"
      },
      "execution_count": null,
      "outputs": []
    },
    {
      "cell_type": "code",
      "source": [],
      "metadata": {
        "id": "72oqjxur9Ovq"
      },
      "execution_count": null,
      "outputs": []
    },
    {
      "cell_type": "code",
      "source": [],
      "metadata": {
        "id": "JHH6FVB09Otl"
      },
      "execution_count": null,
      "outputs": []
    },
    {
      "cell_type": "code",
      "source": [],
      "metadata": {
        "id": "3FXmvZDt9Op0"
      },
      "execution_count": null,
      "outputs": []
    },
    {
      "cell_type": "code",
      "source": [],
      "metadata": {
        "id": "9zdw-igz9Ons"
      },
      "execution_count": null,
      "outputs": []
    },
    {
      "cell_type": "code",
      "source": [],
      "metadata": {
        "id": "IrMGwFlG9Ojv"
      },
      "execution_count": null,
      "outputs": []
    },
    {
      "cell_type": "code",
      "source": [],
      "metadata": {
        "id": "9o7mIrl49Ohc"
      },
      "execution_count": null,
      "outputs": []
    },
    {
      "cell_type": "code",
      "source": [],
      "metadata": {
        "id": "u061iKmc9OdR"
      },
      "execution_count": null,
      "outputs": []
    },
    {
      "cell_type": "code",
      "source": [],
      "metadata": {
        "id": "e0rt8gBI9OV9"
      },
      "execution_count": null,
      "outputs": []
    },
    {
      "cell_type": "code",
      "source": [],
      "metadata": {
        "id": "Q4S4arLO9NZN"
      },
      "execution_count": null,
      "outputs": []
    }
  ]
}